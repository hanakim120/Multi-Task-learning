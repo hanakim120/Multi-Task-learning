{
 "cells": [
  {
   "cell_type": "code",
   "execution_count": 4,
   "metadata": {},
   "outputs": [],
   "source": [
    "import pandas as pd\n",
    "import numpy\n",
    "import matplotlib"
   ]
  },
  {
   "cell_type": "code",
   "execution_count": 5,
   "metadata": {},
   "outputs": [
    {
     "data": {
      "text/html": [
       "<div>\n",
       "<style scoped>\n",
       "    .dataframe tbody tr th:only-of-type {\n",
       "        vertical-align: middle;\n",
       "    }\n",
       "\n",
       "    .dataframe tbody tr th {\n",
       "        vertical-align: top;\n",
       "    }\n",
       "\n",
       "    .dataframe thead th {\n",
       "        text-align: right;\n",
       "    }\n",
       "</style>\n",
       "<table border=\"1\" class=\"dataframe\">\n",
       "  <thead>\n",
       "    <tr style=\"text-align: right;\">\n",
       "      <th></th>\n",
       "      <th>Patient</th>\n",
       "      <th>Diagnosis</th>\n",
       "      <th>Date</th>\n",
       "      <th>Gender</th>\n",
       "      <th>Age</th>\n",
       "      <th>CMV IgM</th>\n",
       "      <th>CMV IgG</th>\n",
       "      <th>HSV IgM</th>\n",
       "      <th>HSV IgG</th>\n",
       "      <th>VZV IgM</th>\n",
       "      <th>...</th>\n",
       "      <th>Monocyte(#)</th>\n",
       "      <th>Monocyte(%)</th>\n",
       "      <th>Neutrophil(#)</th>\n",
       "      <th>Neutrophil(%)</th>\n",
       "      <th>ESR</th>\n",
       "      <th>CRP</th>\n",
       "      <th>CMV PCR[EYE]</th>\n",
       "      <th>HSV type I PCR[EYE]</th>\n",
       "      <th>HSV type II PCR[EYE]</th>\n",
       "      <th>VZV PCR[EYE]</th>\n",
       "    </tr>\n",
       "  </thead>\n",
       "  <tbody>\n",
       "    <tr>\n",
       "      <th>0</th>\n",
       "      <td>10001829</td>\n",
       "      <td>0</td>\n",
       "      <td>2020-06-15</td>\n",
       "      <td>0</td>\n",
       "      <td>65</td>\n",
       "      <td>NaN</td>\n",
       "      <td>NaN</td>\n",
       "      <td>NaN</td>\n",
       "      <td>NaN</td>\n",
       "      <td>NaN</td>\n",
       "      <td>...</td>\n",
       "      <td>0.4</td>\n",
       "      <td>9.1</td>\n",
       "      <td>1.8</td>\n",
       "      <td>NaN</td>\n",
       "      <td>30.0</td>\n",
       "      <td>1.4</td>\n",
       "      <td>NaN</td>\n",
       "      <td>NaN</td>\n",
       "      <td>NaN</td>\n",
       "      <td>NaN</td>\n",
       "    </tr>\n",
       "    <tr>\n",
       "      <th>1</th>\n",
       "      <td>10002333</td>\n",
       "      <td>0</td>\n",
       "      <td>2020-08-29</td>\n",
       "      <td>0</td>\n",
       "      <td>59</td>\n",
       "      <td>NaN</td>\n",
       "      <td>NaN</td>\n",
       "      <td>NaN</td>\n",
       "      <td>NaN</td>\n",
       "      <td>NaN</td>\n",
       "      <td>...</td>\n",
       "      <td>0.41</td>\n",
       "      <td>7.5</td>\n",
       "      <td>2.98</td>\n",
       "      <td>54.8</td>\n",
       "      <td>NaN</td>\n",
       "      <td>NaN</td>\n",
       "      <td>NaN</td>\n",
       "      <td>NaN</td>\n",
       "      <td>NaN</td>\n",
       "      <td>NaN</td>\n",
       "    </tr>\n",
       "    <tr>\n",
       "      <th>2</th>\n",
       "      <td>10003076</td>\n",
       "      <td>0</td>\n",
       "      <td>2021-06-02</td>\n",
       "      <td>0</td>\n",
       "      <td>67</td>\n",
       "      <td>NaN</td>\n",
       "      <td>NaN</td>\n",
       "      <td>NaN</td>\n",
       "      <td>NaN</td>\n",
       "      <td>NaN</td>\n",
       "      <td>...</td>\n",
       "      <td>0.55</td>\n",
       "      <td>4.8</td>\n",
       "      <td>9.8</td>\n",
       "      <td>NaN</td>\n",
       "      <td>NaN</td>\n",
       "      <td>NaN</td>\n",
       "      <td>NaN</td>\n",
       "      <td>NaN</td>\n",
       "      <td>NaN</td>\n",
       "      <td>NaN</td>\n",
       "    </tr>\n",
       "    <tr>\n",
       "      <th>3</th>\n",
       "      <td>10003076</td>\n",
       "      <td>0</td>\n",
       "      <td>2021-09-24</td>\n",
       "      <td>0</td>\n",
       "      <td>67</td>\n",
       "      <td>NaN</td>\n",
       "      <td>NaN</td>\n",
       "      <td>NaN</td>\n",
       "      <td>NaN</td>\n",
       "      <td>NaN</td>\n",
       "      <td>...</td>\n",
       "      <td>0.17</td>\n",
       "      <td>1.3</td>\n",
       "      <td>12.41</td>\n",
       "      <td>NaN</td>\n",
       "      <td>NaN</td>\n",
       "      <td>NaN</td>\n",
       "      <td>NaN</td>\n",
       "      <td>NaN</td>\n",
       "      <td>NaN</td>\n",
       "      <td>NaN</td>\n",
       "    </tr>\n",
       "    <tr>\n",
       "      <th>4</th>\n",
       "      <td>10003076</td>\n",
       "      <td>0</td>\n",
       "      <td>2021-12-28</td>\n",
       "      <td>0</td>\n",
       "      <td>67</td>\n",
       "      <td>NaN</td>\n",
       "      <td>NaN</td>\n",
       "      <td>NaN</td>\n",
       "      <td>NaN</td>\n",
       "      <td>NaN</td>\n",
       "      <td>...</td>\n",
       "      <td>0.72</td>\n",
       "      <td>9.7</td>\n",
       "      <td>5.62</td>\n",
       "      <td>NaN</td>\n",
       "      <td>NaN</td>\n",
       "      <td>NaN</td>\n",
       "      <td>NaN</td>\n",
       "      <td>NaN</td>\n",
       "      <td>NaN</td>\n",
       "      <td>NaN</td>\n",
       "    </tr>\n",
       "    <tr>\n",
       "      <th>...</th>\n",
       "      <td>...</td>\n",
       "      <td>...</td>\n",
       "      <td>...</td>\n",
       "      <td>...</td>\n",
       "      <td>...</td>\n",
       "      <td>...</td>\n",
       "      <td>...</td>\n",
       "      <td>...</td>\n",
       "      <td>...</td>\n",
       "      <td>...</td>\n",
       "      <td>...</td>\n",
       "      <td>...</td>\n",
       "      <td>...</td>\n",
       "      <td>...</td>\n",
       "      <td>...</td>\n",
       "      <td>...</td>\n",
       "      <td>...</td>\n",
       "      <td>...</td>\n",
       "      <td>...</td>\n",
       "      <td>...</td>\n",
       "      <td>...</td>\n",
       "    </tr>\n",
       "    <tr>\n",
       "      <th>9995</th>\n",
       "      <td>9996860</td>\n",
       "      <td>0</td>\n",
       "      <td>2021-01-19</td>\n",
       "      <td>0</td>\n",
       "      <td>8</td>\n",
       "      <td>NaN</td>\n",
       "      <td>NaN</td>\n",
       "      <td>NaN</td>\n",
       "      <td>NaN</td>\n",
       "      <td>NaN</td>\n",
       "      <td>...</td>\n",
       "      <td>0.39</td>\n",
       "      <td>6.2</td>\n",
       "      <td>3.32</td>\n",
       "      <td>52.3</td>\n",
       "      <td>9.0</td>\n",
       "      <td>2.2</td>\n",
       "      <td>NaN</td>\n",
       "      <td>NaN</td>\n",
       "      <td>NaN</td>\n",
       "      <td>NaN</td>\n",
       "    </tr>\n",
       "    <tr>\n",
       "      <th>9996</th>\n",
       "      <td>9996860</td>\n",
       "      <td>0</td>\n",
       "      <td>2021-07-10</td>\n",
       "      <td>0</td>\n",
       "      <td>9</td>\n",
       "      <td>NaN</td>\n",
       "      <td>NaN</td>\n",
       "      <td>NaN</td>\n",
       "      <td>NaN</td>\n",
       "      <td>NaN</td>\n",
       "      <td>...</td>\n",
       "      <td>0.37</td>\n",
       "      <td>5.5</td>\n",
       "      <td>3.83</td>\n",
       "      <td>57.3</td>\n",
       "      <td>28.0</td>\n",
       "      <td>1.8</td>\n",
       "      <td>NaN</td>\n",
       "      <td>NaN</td>\n",
       "      <td>NaN</td>\n",
       "      <td>NaN</td>\n",
       "    </tr>\n",
       "    <tr>\n",
       "      <th>9997</th>\n",
       "      <td>9996860</td>\n",
       "      <td>0</td>\n",
       "      <td>2021-10-05</td>\n",
       "      <td>0</td>\n",
       "      <td>9</td>\n",
       "      <td>NaN</td>\n",
       "      <td>NaN</td>\n",
       "      <td>NaN</td>\n",
       "      <td>NaN</td>\n",
       "      <td>NaN</td>\n",
       "      <td>...</td>\n",
       "      <td>0.3</td>\n",
       "      <td>3.9</td>\n",
       "      <td>4.31</td>\n",
       "      <td>55.9</td>\n",
       "      <td>28.0</td>\n",
       "      <td>2.6</td>\n",
       "      <td>NaN</td>\n",
       "      <td>NaN</td>\n",
       "      <td>NaN</td>\n",
       "      <td>NaN</td>\n",
       "    </tr>\n",
       "    <tr>\n",
       "      <th>9998</th>\n",
       "      <td>9996860</td>\n",
       "      <td>0</td>\n",
       "      <td>2022-01-10</td>\n",
       "      <td>0</td>\n",
       "      <td>9</td>\n",
       "      <td>NaN</td>\n",
       "      <td>NaN</td>\n",
       "      <td>NaN</td>\n",
       "      <td>NaN</td>\n",
       "      <td>NaN</td>\n",
       "      <td>...</td>\n",
       "      <td>0.28</td>\n",
       "      <td>3.7</td>\n",
       "      <td>4.41</td>\n",
       "      <td>57.6</td>\n",
       "      <td>43.0</td>\n",
       "      <td>6.1</td>\n",
       "      <td>NaN</td>\n",
       "      <td>NaN</td>\n",
       "      <td>NaN</td>\n",
       "      <td>NaN</td>\n",
       "    </tr>\n",
       "    <tr>\n",
       "      <th>9999</th>\n",
       "      <td>9997335</td>\n",
       "      <td>0</td>\n",
       "      <td>2020-06-12</td>\n",
       "      <td>1</td>\n",
       "      <td>38</td>\n",
       "      <td>NaN</td>\n",
       "      <td>NaN</td>\n",
       "      <td>NaN</td>\n",
       "      <td>NaN</td>\n",
       "      <td>NaN</td>\n",
       "      <td>...</td>\n",
       "      <td>0.27</td>\n",
       "      <td>4.5</td>\n",
       "      <td>3.62</td>\n",
       "      <td>60.0</td>\n",
       "      <td>NaN</td>\n",
       "      <td>NaN</td>\n",
       "      <td>NaN</td>\n",
       "      <td>NaN</td>\n",
       "      <td>NaN</td>\n",
       "      <td>NaN</td>\n",
       "    </tr>\n",
       "  </tbody>\n",
       "</table>\n",
       "<p>10000 rows × 24 columns</p>\n",
       "</div>"
      ],
      "text/plain": [
       "       Patient  Diagnosis        Date  Gender  Age  CMV IgM  CMV IgG  HSV IgM  \\\n",
       "0     10001829          0  2020-06-15       0   65      NaN      NaN      NaN   \n",
       "1     10002333          0  2020-08-29       0   59      NaN      NaN      NaN   \n",
       "2     10003076          0  2021-06-02       0   67      NaN      NaN      NaN   \n",
       "3     10003076          0  2021-09-24       0   67      NaN      NaN      NaN   \n",
       "4     10003076          0  2021-12-28       0   67      NaN      NaN      NaN   \n",
       "...        ...        ...         ...     ...  ...      ...      ...      ...   \n",
       "9995   9996860          0  2021-01-19       0    8      NaN      NaN      NaN   \n",
       "9996   9996860          0  2021-07-10       0    9      NaN      NaN      NaN   \n",
       "9997   9996860          0  2021-10-05       0    9      NaN      NaN      NaN   \n",
       "9998   9996860          0  2022-01-10       0    9      NaN      NaN      NaN   \n",
       "9999   9997335          0  2020-06-12       1   38      NaN      NaN      NaN   \n",
       "\n",
       "      HSV IgG VZV IgM  ...  Monocyte(#)  Monocyte(%)  Neutrophil(#)  \\\n",
       "0         NaN     NaN  ...          0.4          9.1            1.8   \n",
       "1         NaN     NaN  ...         0.41          7.5           2.98   \n",
       "2         NaN     NaN  ...         0.55          4.8            9.8   \n",
       "3         NaN     NaN  ...         0.17          1.3          12.41   \n",
       "4         NaN     NaN  ...         0.72          9.7           5.62   \n",
       "...       ...     ...  ...          ...          ...            ...   \n",
       "9995      NaN     NaN  ...         0.39          6.2           3.32   \n",
       "9996      NaN     NaN  ...         0.37          5.5           3.83   \n",
       "9997      NaN     NaN  ...          0.3          3.9           4.31   \n",
       "9998      NaN     NaN  ...         0.28          3.7           4.41   \n",
       "9999      NaN     NaN  ...         0.27          4.5           3.62   \n",
       "\n",
       "      Neutrophil(%)   ESR  CRP CMV PCR[EYE]  HSV type I PCR[EYE]  \\\n",
       "0               NaN  30.0  1.4          NaN                  NaN   \n",
       "1              54.8   NaN  NaN          NaN                  NaN   \n",
       "2               NaN   NaN  NaN          NaN                  NaN   \n",
       "3               NaN   NaN  NaN          NaN                  NaN   \n",
       "4               NaN   NaN  NaN          NaN                  NaN   \n",
       "...             ...   ...  ...          ...                  ...   \n",
       "9995           52.3   9.0  2.2          NaN                  NaN   \n",
       "9996           57.3  28.0  1.8          NaN                  NaN   \n",
       "9997           55.9  28.0  2.6          NaN                  NaN   \n",
       "9998           57.6  43.0  6.1          NaN                  NaN   \n",
       "9999           60.0   NaN  NaN          NaN                  NaN   \n",
       "\n",
       "      HSV type II PCR[EYE]  VZV PCR[EYE]  \n",
       "0                      NaN           NaN  \n",
       "1                      NaN           NaN  \n",
       "2                      NaN           NaN  \n",
       "3                      NaN           NaN  \n",
       "4                      NaN           NaN  \n",
       "...                    ...           ...  \n",
       "9995                   NaN           NaN  \n",
       "9996                   NaN           NaN  \n",
       "9997                   NaN           NaN  \n",
       "9998                   NaN           NaN  \n",
       "9999                   NaN           NaN  \n",
       "\n",
       "[10000 rows x 24 columns]"
      ]
     },
     "execution_count": 5,
     "metadata": {},
     "output_type": "execute_result"
    }
   ],
   "source": [
    "raw_data = pd.read_excel('medical_data.xlsx',sheet_name = 'Sheet1')\n",
    "raw_data"
   ]
  },
  {
   "cell_type": "markdown",
   "metadata": {},
   "source": [
    "### total 10,000 data\n",
    "Patient\t3021명\n",
    "Diagnosis\t0,1,2\n",
    "Date\t2005-01-05 ~ 2022-05-03\n",
    "Gender\t0,1\n",
    "Age\t\n",
    "CMV IgM\t\n",
    "CMV IgG\t\n",
    "HSV IgM\t\n",
    "HSV IgG\t\n",
    "VZV IgM\n",
    "VZV IgG\n",
    "WBC COUNT\n",
    "Lymphocyte(#)\n",
    "Lymphocyte(%)\n",
    "Monocyte(#)\t\n",
    "Monocyte(%)\t\n",
    "Neutrophil(#)\t\n",
    "Neutrophil(%)\t\n",
    "ESR\t\n",
    "CRP\n",
    "\n",
    "### diagnosis 바뀐 경우 54 (0,1 또는 0,2 인 경우 44개, 1 2 섞인 경우 10개)"
   ]
  },
  {
   "cell_type": "markdown",
   "metadata": {},
   "source": [
    "## # of Missing value "
   ]
  },
  {
   "cell_type": "code",
   "execution_count": 38,
   "metadata": {},
   "outputs": [],
   "source": [
    "#total = df_train.isna()\n",
    "\n",
    "total = raw_data.isnull().sum().sort_values(ascending = False) #내림차순 \n",
    "percent = (raw_data.isnull().sum() / raw_data.isnull().count()).sort_values(ascending = False)"
   ]
  },
  {
   "cell_type": "code",
   "execution_count": 6,
   "metadata": {},
   "outputs": [
    {
     "data": {
      "text/plain": [
       "Patient                    0\n",
       "Diagnosis                  0\n",
       "Date                       0\n",
       "Gender                     0\n",
       "Age                        0\n",
       "CMV IgM                 9134\n",
       "CMV IgG                 9161\n",
       "HSV IgM                 9107\n",
       "HSV IgG                 9333\n",
       "VZV IgM                 9225\n",
       "VZV IgG                 9225\n",
       "WBC COUNT                556\n",
       "Lymphocyte(#)            925\n",
       "Lymphocyte(%)            925\n",
       "Monocyte(#)              925\n",
       "Monocyte(%)              925\n",
       "Neutrophil(#)            925\n",
       "Neutrophil(%)           2693\n",
       "ESR                     5035\n",
       "CRP                     5134\n",
       "CMV PCR[EYE]            9705\n",
       "HSV type I PCR[EYE]     9792\n",
       "HSV type II PCR[EYE]    9809\n",
       "VZV PCR[EYE]            9820\n",
       "dtype: int64"
      ]
     },
     "execution_count": 6,
     "metadata": {},
     "output_type": "execute_result"
    }
   ],
   "source": [
    "raw_data.isnull().sum()"
   ]
  },
  {
   "cell_type": "code",
   "execution_count": 37,
   "metadata": {},
   "outputs": [
    {
     "data": {
      "text/plain": [
       "Patient                  0.00\n",
       "Diagnosis                0.00\n",
       "Date                     0.00\n",
       "Gender                   0.00\n",
       "Age                      0.00\n",
       "CMV IgM                 91.34\n",
       "CMV IgG                 91.61\n",
       "HSV IgM                 91.07\n",
       "HSV IgG                 93.33\n",
       "VZV IgM                 92.25\n",
       "VZV IgG                 92.25\n",
       "WBC COUNT                5.56\n",
       "Lymphocyte(#)            9.25\n",
       "Lymphocyte(%)            9.25\n",
       "Monocyte(#)              9.25\n",
       "Monocyte(%)              9.25\n",
       "Neutrophil(#)            9.25\n",
       "Neutrophil(%)           26.93\n",
       "ESR                     50.35\n",
       "CRP                     51.34\n",
       "CMV PCR[EYE]            97.05\n",
       "HSV type I PCR[EYE]     97.92\n",
       "HSV type II PCR[EYE]    98.09\n",
       "VZV PCR[EYE]            98.20\n",
       "dtype: float64"
      ]
     },
     "execution_count": 37,
     "metadata": {},
     "output_type": "execute_result"
    }
   ],
   "source": [
    "raw_data.isnull().sum()/raw_data.isnull().count()*100"
   ]
  },
  {
   "cell_type": "code",
   "execution_count": 26,
   "metadata": {},
   "outputs": [
    {
     "name": "stdout",
     "output_type": "stream",
     "text": [
      "10000\n",
      "count    866.000000\n",
      "mean       0.099351\n",
      "std        0.368809\n",
      "min        0.000000\n",
      "25%        0.000000\n",
      "50%        0.000000\n",
      "75%        0.109250\n",
      "max        6.640000\n",
      "Name: CMV IgM, dtype: float64\n"
     ]
    }
   ],
   "source": [
    "print(len(raw_data['CMV IgM']))\n",
    "print(raw_data['CMV IgM'].describe())"
   ]
  },
  {
   "cell_type": "code",
   "execution_count": 28,
   "metadata": {},
   "outputs": [
    {
     "name": "stdout",
     "output_type": "stream",
     "text": [
      "10000\n",
      "count    839.000000\n",
      "mean      41.009743\n",
      "std       32.879870\n",
      "min        0.000000\n",
      "25%       17.850000\n",
      "50%       37.000000\n",
      "75%       54.000000\n",
      "max      267.000000\n",
      "Name: CMV IgG, dtype: float64\n"
     ]
    }
   ],
   "source": [
    "print(len(raw_data['CMV IgM']))\n",
    "print(raw_data['CMV IgG'].describe())"
   ]
  },
  {
   "cell_type": "code",
   "execution_count": 29,
   "metadata": {},
   "outputs": [
    {
     "name": "stdout",
     "output_type": "stream",
     "text": [
      "10000\n",
      "count    893.000000\n",
      "mean       0.264057\n",
      "std        0.428801\n",
      "min        0.000000\n",
      "25%        0.000000\n",
      "50%        0.100000\n",
      "75%        0.500000\n",
      "max        5.100000\n",
      "Name: HSV IgM, dtype: float64\n"
     ]
    }
   ],
   "source": [
    "print(len(raw_data['HSV IgM']))\n",
    "print(raw_data['HSV IgM'].describe())"
   ]
  },
  {
   "cell_type": "code",
   "execution_count": 30,
   "metadata": {},
   "outputs": [
    {
     "name": "stdout",
     "output_type": "stream",
     "text": [
      "10000\n",
      "count    667.000000\n",
      "mean      48.279385\n",
      "std       47.598559\n",
      "min        0.000000\n",
      "25%        7.985000\n",
      "50%       30.000000\n",
      "75%       78.000000\n",
      "max      244.000000\n",
      "Name: HSV IgG, dtype: float64\n"
     ]
    }
   ],
   "source": [
    "print(len(raw_data['HSV IgG']))\n",
    "print(raw_data['HSV IgG'].describe())"
   ]
  },
  {
   "cell_type": "code",
   "execution_count": 33,
   "metadata": {},
   "outputs": [
    {
     "name": "stdout",
     "output_type": "stream",
     "text": [
      "10000\n",
      "count     775.000\n",
      "unique    185.000\n",
      "top         0.025\n",
      "freq      377.000\n",
      "Name: VZV IgM, dtype: float64\n"
     ]
    }
   ],
   "source": [
    "print(len(raw_data['VZV IgM']))\n",
    "print(raw_data['VZV IgM'].describe())"
   ]
  },
  {
   "cell_type": "code",
   "execution_count": 34,
   "metadata": {},
   "outputs": [
    {
     "name": "stdout",
     "output_type": "stream",
     "text": [
      "10000\n",
      "count     775.000000\n",
      "mean      837.857535\n",
      "std      1034.776210\n",
      "min         0.000000\n",
      "25%         6.050000\n",
      "50%       520.000000\n",
      "75%      1249.000000\n",
      "max      8500.000000\n",
      "Name: VZV IgG, dtype: float64\n"
     ]
    }
   ],
   "source": [
    "print(len(raw_data['VZV IgG']))\n",
    "print(raw_data['VZV IgG'].describe())"
   ]
  },
  {
   "cell_type": "markdown",
   "metadata": {},
   "source": [
    "## 각 병의 분포 (환자 수)"
   ]
  },
  {
   "cell_type": "code",
   "execution_count": 7,
   "metadata": {},
   "outputs": [],
   "source": [
    "def print_class_num(df, label_name):            # 클래스의 비율을 알아보기 위한 함수\n",
    "  n_total = len(df)                             # 데이터의 총 개수\n",
    "  n_0 = len(df.query(label_name + ' == 0'))   # label로 0을 사용하는 열 개수\n",
    "  n_1 = len(df.query(label_name + ' == 1'))   # label로 1을 사용하는 열 개수\n",
    "  n_2 = len(df.query(label_name + ' == 2'))   # label로 2을 사용하는 열 개수\n",
    " \n",
    "\n",
    "  print(\"NIU (0) : {}개, {:.2f}%\".format(n_0, n_0*100/n_total))\n",
    "  print(\"ARN (1) : {}개, {:.2f}%\\n\".format(n_1, n_1*100/n_total))\n",
    "  print(\"CMV (2) : {}개, {:.2f}%\\n\".format(n_2, n_2*100/n_total))\n",
    "\n",
    "  values = df[label_name].value_counts()        # label로 사용하는 열의 값을 카운트 \n",
    "  values.plot(kind='bar')\n",
    "  print(values)"
   ]
  },
  {
   "cell_type": "code",
   "execution_count": 8,
   "metadata": {},
   "outputs": [
    {
     "name": "stdout",
     "output_type": "stream",
     "text": [
      "NIU (0) : 8805개, 88.05%\n",
      "ARN (1) : 174개, 1.74%\n",
      "\n",
      "CMV (2) : 1021개, 10.21%\n",
      "\n",
      "0    8805\n",
      "2    1021\n",
      "1     174\n",
      "Name: Diagnosis, dtype: int64\n"
     ]
    },
    {
     "data": {
      "image/png": "[encoded data removed]",
      "text/plain": [
       "<Figure size 432x288 with 1 Axes>"
      ]
     },
     "metadata": {
      "needs_background": "light"
     },
     "output_type": "display_data"
    }
   ],
   "source": [
    "print_class_num(raw_data,'Diagnosis')"
   ]
  },
  {
   "cell_type": "code",
   "execution_count": null,
   "metadata": {},
   "outputs": [],
   "source": []
  },
  {
   "cell_type": "code",
   "execution_count": null,
   "metadata": {},
   "outputs": [],
   "source": []
  }
 ],
 "metadata": {
  "interpreter": {
   "hash": "31f2aee4e71d21fbe5cf8b01ff0e069b9275f58929596ceb00d14d90e3e16cd6"
  },
  "kernelspec": {
   "display_name": "Python 3.8.9 64-bit",
   "language": "python",
   "name": "python3"
  },
  "language_info": {
   "codemirror_mode": {
    "name": "ipython",
    "version": 3
   },
   "file_extension": ".py",
   "mimetype": "text/x-python",
   "name": "python",
   "nbconvert_exporter": "python",
   "pygments_lexer": "ipython3",
   "version": "3.8.9"
  },
  "orig_nbformat": 4
 },
 "nbformat": 4,
 "nbformat_minor": 2
}
